{
 "cells": [
  {
   "cell_type": "code",
   "execution_count": 1,
   "metadata": {},
   "outputs": [
    {
     "name": "stderr",
     "output_type": "stream",
     "text": [
      "Using TensorFlow backend.\n"
     ]
    }
   ],
   "source": [
    "import numpy as np \n",
    "\n",
    "import matplotlib.pyplot as plt \n",
    "import os \n",
    "from keras import layers \n",
    "from keras.models import Model\n",
    "from keras.models import load_model\n",
    "from keras.callbacks import EarlyStopping,ModelCheckpoint \n",
    "import cv2 \n",
    "import string\n",
    "from keras.models import Sequential\n",
    "from keras.layers import Flatten, Dense, Dropout\n",
    "from keras.optimizers import Adam"
   ]
  },
  {
   "cell_type": "code",
   "execution_count": 2,
   "metadata": {},
   "outputs": [],
   "source": [
    "def preprocess(character,nchar,n):\n",
    "    X = np.zeros((n,50,200,1)) \n",
    "    y = np.zeros((5,n,nchar)) \n",
    "\n",
    "    for i, pic in enumerate(os.listdir(\"..\\\\captchas\\\\images\\\\\")):\n",
    "\n",
    "        img = cv2.imread(os.path.join(\"..\\\\captchas\\\\images\\\\\", pic), cv2.IMREAD_GRAYSCALE) \n",
    "        pic_target = pic[:-4]\n",
    "\n",
    "        if len(pic_target) < 6: \n",
    "            img = img / 255.0 \n",
    "            img = np.reshape(img, (50, 200, 1))  \n",
    "\n",
    "            target=np.zeros((5,nchar)) \n",
    "\n",
    "            for j, k in enumerate(pic_target):\n",
    "            \n",
    "                index = character.find(k) \n",
    "                target[j, index] = 1 \n",
    "\n",
    "            X[i] = img \n",
    "            y[:,i] = target \n",
    "\n",
    "    return X,y"
   ]
  },
  {
   "cell_type": "code",
   "execution_count": 3,
   "metadata": {},
   "outputs": [],
   "source": [
    "def createmodel(imgshape, nchar):\n",
    "    img = layers.Input(shape=imgshape) \n",
    "    conv1 = layers.Conv2D(16, (3, 3), padding='same', activation='relu')(img) \n",
    "    mp1 = layers.MaxPooling2D(padding='same')(conv1)  \n",
    "    conv2 = layers.Conv2D(32, (3, 3), padding='same', activation='relu')(mp1)\n",
    "    mp2 = layers.MaxPooling2D(padding='same')(conv2)  \n",
    "    conv3 = layers.Conv2D(32, (3, 3), padding='same', activation='relu')(mp2)\n",
    "    bn = layers.BatchNormalization()(conv3) \n",
    "    mp3 = layers.MaxPooling2D(padding='same')(bn)  \n",
    "    flat = layers.Flatten()(mp3) \n",
    "    \n",
    "    outs = []\n",
    "    for _ in range(5): \n",
    "        dens1 = layers.Dense(64, activation='relu')(flat)\n",
    "        drop = layers.Dropout(0.5)(dens1) \n",
    "        res = layers.Dense(nchar, activation='softmax')(drop)\n",
    "\n",
    "        outs.append(res) \n",
    "    \n",
    "    \n",
    "    model = Model(img,outs) \n",
    "    learning_rate = 1.25e-4\n",
    "    adam = Adam(lr=learning_rate)\n",
    "    model.compile(loss='categorical_crossentropy', optimizer= adam,metrics=[\"accuracy\"])\n",
    "    return model"
   ]
  },
  {
   "cell_type": "code",
   "execution_count": 4,
   "metadata": {},
   "outputs": [],
   "source": [
    "imgshape=(50,200,1)\n",
    "n=len(os.listdir(\"..\\\\captchas\\\\images\\\\\"))\n",
    "character= string.ascii_lowercase + \"0123456789\" \n",
    "nchar = len(character)"
   ]
  },
  {
   "cell_type": "code",
   "execution_count": 5,
   "metadata": {
    "scrolled": false
   },
   "outputs": [
    {
     "name": "stdout",
     "output_type": "stream",
     "text": [
      "Model: \"model_1\"\n",
      "__________________________________________________________________________________________________\n",
      "Layer (type)                    Output Shape         Param #     Connected to                     \n",
      "==================================================================================================\n",
      "input_1 (InputLayer)            (None, 50, 200, 1)   0                                            \n",
      "__________________________________________________________________________________________________\n",
      "conv2d_1 (Conv2D)               (None, 50, 200, 16)  160         input_1[0][0]                    \n",
      "__________________________________________________________________________________________________\n",
      "max_pooling2d_1 (MaxPooling2D)  (None, 25, 100, 16)  0           conv2d_1[0][0]                   \n",
      "__________________________________________________________________________________________________\n",
      "conv2d_2 (Conv2D)               (None, 25, 100, 32)  4640        max_pooling2d_1[0][0]            \n",
      "__________________________________________________________________________________________________\n",
      "max_pooling2d_2 (MaxPooling2D)  (None, 13, 50, 32)   0           conv2d_2[0][0]                   \n",
      "__________________________________________________________________________________________________\n",
      "conv2d_3 (Conv2D)               (None, 13, 50, 32)   9248        max_pooling2d_2[0][0]            \n",
      "__________________________________________________________________________________________________\n",
      "batch_normalization_1 (BatchNor (None, 13, 50, 32)   128         conv2d_3[0][0]                   \n",
      "__________________________________________________________________________________________________\n",
      "max_pooling2d_3 (MaxPooling2D)  (None, 7, 25, 32)    0           batch_normalization_1[0][0]      \n",
      "__________________________________________________________________________________________________\n",
      "flatten_1 (Flatten)             (None, 5600)         0           max_pooling2d_3[0][0]            \n",
      "__________________________________________________________________________________________________\n",
      "dense_1 (Dense)                 (None, 64)           358464      flatten_1[0][0]                  \n",
      "__________________________________________________________________________________________________\n",
      "dense_3 (Dense)                 (None, 64)           358464      flatten_1[0][0]                  \n",
      "__________________________________________________________________________________________________\n",
      "dense_5 (Dense)                 (None, 64)           358464      flatten_1[0][0]                  \n",
      "__________________________________________________________________________________________________\n",
      "dense_7 (Dense)                 (None, 64)           358464      flatten_1[0][0]                  \n",
      "__________________________________________________________________________________________________\n",
      "dense_9 (Dense)                 (None, 64)           358464      flatten_1[0][0]                  \n",
      "__________________________________________________________________________________________________\n",
      "dropout_1 (Dropout)             (None, 64)           0           dense_1[0][0]                    \n",
      "__________________________________________________________________________________________________\n",
      "dropout_2 (Dropout)             (None, 64)           0           dense_3[0][0]                    \n",
      "__________________________________________________________________________________________________\n",
      "dropout_3 (Dropout)             (None, 64)           0           dense_5[0][0]                    \n",
      "__________________________________________________________________________________________________\n",
      "dropout_4 (Dropout)             (None, 64)           0           dense_7[0][0]                    \n",
      "__________________________________________________________________________________________________\n",
      "dropout_5 (Dropout)             (None, 64)           0           dense_9[0][0]                    \n",
      "__________________________________________________________________________________________________\n",
      "dense_2 (Dense)                 (None, 36)           2340        dropout_1[0][0]                  \n",
      "__________________________________________________________________________________________________\n",
      "dense_4 (Dense)                 (None, 36)           2340        dropout_2[0][0]                  \n",
      "__________________________________________________________________________________________________\n",
      "dense_6 (Dense)                 (None, 36)           2340        dropout_3[0][0]                  \n",
      "__________________________________________________________________________________________________\n",
      "dense_8 (Dense)                 (None, 36)           2340        dropout_4[0][0]                  \n",
      "__________________________________________________________________________________________________\n",
      "dense_10 (Dense)                (None, 36)           2340        dropout_5[0][0]                  \n",
      "==================================================================================================\n",
      "Total params: 1,818,196\n",
      "Trainable params: 1,818,132\n",
      "Non-trainable params: 64\n",
      "__________________________________________________________________________________________________\n"
     ]
    }
   ],
   "source": [
    "model=createmodel(imgshape,nchar);\n",
    "model.summary();"
   ]
  },
  {
   "cell_type": "code",
   "execution_count": 6,
   "metadata": {},
   "outputs": [],
   "source": [
    "X,y=preprocess(character,nchar,n)\n",
    "\n",
    "X_train, y_train = X[:970], y[:, :970]\n",
    "X_test, y_test = X[970:], y[:, 970:]"
   ]
  },
  {
   "cell_type": "code",
   "execution_count": 8,
   "metadata": {
    "scrolled": true
   },
   "outputs": [
    {
     "name": "stdout",
     "output_type": "stream",
     "text": [
      "Train on 776 samples, validate on 194 samples\n",
      "Epoch 1/70\n",
      "776/776 [==============================] - 3s 4ms/step - loss: 14.7679 - dense_2_loss: 2.6585 - dense_4_loss: 2.9296 - dense_6_loss: 3.0733 - dense_8_loss: 3.1563 - dense_10_loss: 2.9470 - dense_2_accuracy: 0.2436 - dense_4_accuracy: 0.1727 - dense_6_accuracy: 0.1392 - dense_8_accuracy: 0.0979 - dense_10_accuracy: 0.1740 - val_loss: 17.5695 - val_dense_2_loss: 3.6289 - val_dense_4_loss: 3.4618 - val_dense_6_loss: 3.5082 - val_dense_8_loss: 3.4967 - val_dense_10_loss: 3.4742 - val_dense_2_accuracy: 0.0000e+00 - val_dense_4_accuracy: 0.2216 - val_dense_6_accuracy: 0.0928 - val_dense_8_accuracy: 0.1546 - val_dense_10_accuracy: 0.1598\n",
      "\n",
      "Epoch 00001: loss improved from inf to 14.76789, saving model to ..\\captchas\\CAPTCHA_v1.hdf5\n",
      "Epoch 2/70\n",
      "776/776 [==============================] - 3s 4ms/step - loss: 13.9394 - dense_2_loss: 2.4241 - dense_4_loss: 2.7614 - dense_6_loss: 2.9263 - dense_8_loss: 3.0453 - dense_10_loss: 2.7742 - dense_2_accuracy: 0.3119 - dense_4_accuracy: 0.2152 - dense_6_accuracy: 0.1649 - dense_8_accuracy: 0.1379 - dense_10_accuracy: 0.2191 - val_loss: 17.4553 - val_dense_2_loss: 3.6431 - val_dense_4_loss: 3.4289 - val_dense_6_loss: 3.4705 - val_dense_8_loss: 3.4675 - val_dense_10_loss: 3.4487 - val_dense_2_accuracy: 0.0000e+00 - val_dense_4_accuracy: 0.2680 - val_dense_6_accuracy: 0.1443 - val_dense_8_accuracy: 0.1753 - val_dense_10_accuracy: 0.1959\n",
      "\n",
      "Epoch 00002: loss improved from 14.76789 to 13.93939, saving model to ..\\captchas\\CAPTCHA_v1.hdf5\n",
      "Epoch 3/70\n",
      "776/776 [==============================] - 3s 4ms/step - loss: 12.9951 - dense_2_loss: 2.1407 - dense_4_loss: 2.5832 - dense_6_loss: 2.7745 - dense_8_loss: 2.8770 - dense_10_loss: 2.6161 - dense_2_accuracy: 0.3686 - dense_4_accuracy: 0.2603 - dense_6_accuracy: 0.2075 - dense_8_accuracy: 0.1649 - dense_10_accuracy: 0.2410 - val_loss: 17.2981 - val_dense_2_loss: 3.6325 - val_dense_4_loss: 3.3928 - val_dense_6_loss: 3.4407 - val_dense_8_loss: 3.4379 - val_dense_10_loss: 3.3993 - val_dense_2_accuracy: 0.0000e+00 - val_dense_4_accuracy: 0.3144 - val_dense_6_accuracy: 0.1753 - val_dense_8_accuracy: 0.1649 - val_dense_10_accuracy: 0.1753\n",
      "\n",
      "Epoch 00003: loss improved from 13.93939 to 12.99513, saving model to ..\\captchas\\CAPTCHA_v1.hdf5\n",
      "Epoch 4/70\n",
      "776/776 [==============================] - 3s 4ms/step - loss: 11.9401 - dense_2_loss: 1.8870 - dense_4_loss: 2.3788 - dense_6_loss: 2.5968 - dense_8_loss: 2.6944 - dense_10_loss: 2.3784 - dense_2_accuracy: 0.4420 - dense_4_accuracy: 0.3170 - dense_6_accuracy: 0.2397 - dense_8_accuracy: 0.2075 - dense_10_accuracy: 0.2925 - val_loss: 17.1405 - val_dense_2_loss: 3.6266 - val_dense_4_loss: 3.3444 - val_dense_6_loss: 3.4082 - val_dense_8_loss: 3.4089 - val_dense_10_loss: 3.3596 - val_dense_2_accuracy: 0.0000e+00 - val_dense_4_accuracy: 0.3763 - val_dense_6_accuracy: 0.2371 - val_dense_8_accuracy: 0.2165 - val_dense_10_accuracy: 0.2474\n",
      "\n",
      "Epoch 00004: loss improved from 12.99513 to 11.94012, saving model to ..\\captchas\\CAPTCHA_v1.hdf5\n",
      "Epoch 5/70\n",
      "776/776 [==============================] - 3s 4ms/step - loss: 11.0879 - dense_2_loss: 1.6436 - dense_4_loss: 2.1283 - dense_6_loss: 2.4071 - dense_8_loss: 2.6407 - dense_10_loss: 2.2620 - dense_2_accuracy: 0.5245 - dense_4_accuracy: 0.3982 - dense_6_accuracy: 0.3015 - dense_8_accuracy: 0.2513 - dense_10_accuracy: 0.3260 - val_loss: 16.8920 - val_dense_2_loss: 3.6191 - val_dense_4_loss: 3.2895 - val_dense_6_loss: 3.3457 - val_dense_8_loss: 3.3611 - val_dense_10_loss: 3.2843 - val_dense_2_accuracy: 0.0000e+00 - val_dense_4_accuracy: 0.4433 - val_dense_6_accuracy: 0.3247 - val_dense_8_accuracy: 0.2216 - val_dense_10_accuracy: 0.3196\n",
      "\n",
      "Epoch 00005: loss improved from 11.94012 to 11.08785, saving model to ..\\captchas\\CAPTCHA_v1.hdf5\n",
      "Epoch 6/70\n",
      "776/776 [==============================] - 3s 4ms/step - loss: 10.1155 - dense_2_loss: 1.3620 - dense_4_loss: 2.0301 - dense_6_loss: 2.2458 - dense_8_loss: 2.3903 - dense_10_loss: 2.0812 - dense_2_accuracy: 0.6018 - dense_4_accuracy: 0.4188 - dense_6_accuracy: 0.3518 - dense_8_accuracy: 0.3067 - dense_10_accuracy: 0.3879 - val_loss: 16.5735 - val_dense_2_loss: 3.6029 - val_dense_4_loss: 3.2062 - val_dense_6_loss: 3.2600 - val_dense_8_loss: 3.2947 - val_dense_10_loss: 3.2215 - val_dense_2_accuracy: 0.0000e+00 - val_dense_4_accuracy: 0.4897 - val_dense_6_accuracy: 0.2990 - val_dense_8_accuracy: 0.3247 - val_dense_10_accuracy: 0.3608\n",
      "\n",
      "Epoch 00006: loss improved from 11.08785 to 10.11553, saving model to ..\\captchas\\CAPTCHA_v1.hdf5\n",
      "Epoch 7/70\n",
      "776/776 [==============================] - 3s 4ms/step - loss: 9.0992 - dense_2_loss: 1.1290 - dense_4_loss: 1.8450 - dense_6_loss: 2.0380 - dense_8_loss: 2.1981 - dense_10_loss: 1.8858 - dense_2_accuracy: 0.6985 - dense_4_accuracy: 0.4626 - dense_6_accuracy: 0.3905 - dense_8_accuracy: 0.3673 - dense_10_accuracy: 0.4497 - val_loss: 16.2720 - val_dense_2_loss: 3.6296 - val_dense_4_loss: 3.1241 - val_dense_6_loss: 3.1896 - val_dense_8_loss: 3.2168 - val_dense_10_loss: 3.1296 - val_dense_2_accuracy: 0.0000e+00 - val_dense_4_accuracy: 0.5361 - val_dense_6_accuracy: 0.4227 - val_dense_8_accuracy: 0.3918 - val_dense_10_accuracy: 0.4330\n",
      "\n",
      "Epoch 00007: loss improved from 10.11553 to 9.09922, saving model to ..\\captchas\\CAPTCHA_v1.hdf5\n",
      "Epoch 8/70\n",
      "776/776 [==============================] - 3s 4ms/step - loss: 8.2203 - dense_2_loss: 0.9624 - dense_4_loss: 1.7059 - dense_6_loss: 1.9080 - dense_8_loss: 1.9762 - dense_10_loss: 1.6670 - dense_2_accuracy: 0.7281 - dense_4_accuracy: 0.5013 - dense_6_accuracy: 0.4472 - dense_8_accuracy: 0.4330 - dense_10_accuracy: 0.5155 - val_loss: 15.8349 - val_dense_2_loss: 3.6014 - val_dense_4_loss: 3.0094 - val_dense_6_loss: 3.0947 - val_dense_8_loss: 3.1348 - val_dense_10_loss: 3.0194 - val_dense_2_accuracy: 0.0000e+00 - val_dense_4_accuracy: 0.5928 - val_dense_6_accuracy: 0.4433 - val_dense_8_accuracy: 0.4536 - val_dense_10_accuracy: 0.4381\n",
      "\n",
      "Epoch 00008: loss improved from 9.09922 to 8.22032, saving model to ..\\captchas\\CAPTCHA_v1.hdf5\n",
      "Epoch 9/70\n",
      "776/776 [==============================] - 3s 4ms/step - loss: 7.5425 - dense_2_loss: 0.8257 - dense_4_loss: 1.5457 - dense_6_loss: 1.7352 - dense_8_loss: 1.9119 - dense_10_loss: 1.5228 - dense_2_accuracy: 0.7732 - dense_4_accuracy: 0.5361 - dense_6_accuracy: 0.4820 - dense_8_accuracy: 0.4330 - dense_10_accuracy: 0.5644 - val_loss: 15.4285 - val_dense_2_loss: 3.6331 - val_dense_4_loss: 2.8515 - val_dense_6_loss: 3.0036 - val_dense_8_loss: 3.0585 - val_dense_10_loss: 2.9127 - val_dense_2_accuracy: 0.0000e+00 - val_dense_4_accuracy: 0.6237 - val_dense_6_accuracy: 0.5103 - val_dense_8_accuracy: 0.4845 - val_dense_10_accuracy: 0.5258\n",
      "\n",
      "Epoch 00009: loss improved from 8.22032 to 7.54250, saving model to ..\\captchas\\CAPTCHA_v1.hdf5\n",
      "Epoch 10/70\n",
      "776/776 [==============================] - 3s 4ms/step - loss: 6.7460 - dense_2_loss: 0.6413 - dense_4_loss: 1.3224 - dense_6_loss: 1.6390 - dense_8_loss: 1.7219 - dense_10_loss: 1.4226 - dense_2_accuracy: 0.8286 - dense_4_accuracy: 0.6082 - dense_6_accuracy: 0.5052 - dense_8_accuracy: 0.5052 - dense_10_accuracy: 0.5838 - val_loss: 14.9573 - val_dense_2_loss: 3.6912 - val_dense_4_loss: 2.7040 - val_dense_6_loss: 2.8963 - val_dense_8_loss: 2.9184 - val_dense_10_loss: 2.7790 - val_dense_2_accuracy: 0.0000e+00 - val_dense_4_accuracy: 0.6649 - val_dense_6_accuracy: 0.5567 - val_dense_8_accuracy: 0.4897 - val_dense_10_accuracy: 0.5928\n",
      "\n",
      "Epoch 00010: loss improved from 7.54250 to 6.74604, saving model to ..\\captchas\\CAPTCHA_v1.hdf5\n",
      "Epoch 11/70\n",
      "776/776 [==============================] - 3s 4ms/step - loss: 6.0820 - dense_2_loss: 0.6430 - dense_4_loss: 1.1650 - dense_6_loss: 1.5072 - dense_8_loss: 1.5620 - dense_10_loss: 1.2036 - dense_2_accuracy: 0.8273 - dense_4_accuracy: 0.6521 - dense_6_accuracy: 0.5490 - dense_8_accuracy: 0.5657 - dense_10_accuracy: 0.6611 - val_loss: 14.3846 - val_dense_2_loss: 3.6313 - val_dense_4_loss: 2.5864 - val_dense_6_loss: 2.7482 - val_dense_8_loss: 2.8286 - val_dense_10_loss: 2.6344 - val_dense_2_accuracy: 0.0052 - val_dense_4_accuracy: 0.6753 - val_dense_6_accuracy: 0.5619 - val_dense_8_accuracy: 0.5052 - val_dense_10_accuracy: 0.5979\n",
      "\n",
      "Epoch 00011: loss improved from 6.74604 to 6.08198, saving model to ..\\captchas\\CAPTCHA_v1.hdf5\n",
      "Epoch 12/70\n"
     ]
    },
    {
     "name": "stdout",
     "output_type": "stream",
     "text": [
      "776/776 [==============================] - 3s 4ms/step - loss: 5.6035 - dense_2_loss: 0.5658 - dense_4_loss: 1.0933 - dense_6_loss: 1.3772 - dense_8_loss: 1.3784 - dense_10_loss: 1.1859 - dense_2_accuracy: 0.8621 - dense_4_accuracy: 0.6817 - dense_6_accuracy: 0.5902 - dense_8_accuracy: 0.5863 - dense_10_accuracy: 0.6327 - val_loss: 13.8996 - val_dense_2_loss: 3.6782 - val_dense_4_loss: 2.4373 - val_dense_6_loss: 2.6400 - val_dense_8_loss: 2.6593 - val_dense_10_loss: 2.5407 - val_dense_2_accuracy: 0.0052 - val_dense_4_accuracy: 0.7113 - val_dense_6_accuracy: 0.5567 - val_dense_8_accuracy: 0.5619 - val_dense_10_accuracy: 0.5979\n",
      "\n",
      "Epoch 00012: loss improved from 6.08198 to 5.60349, saving model to ..\\captchas\\CAPTCHA_v1.hdf5\n",
      "Epoch 13/70\n",
      "776/776 [==============================] - 3s 4ms/step - loss: 5.1341 - dense_2_loss: 0.5112 - dense_4_loss: 0.9692 - dense_6_loss: 1.2250 - dense_8_loss: 1.3612 - dense_10_loss: 1.0655 - dense_2_accuracy: 0.8492 - dense_4_accuracy: 0.7152 - dense_6_accuracy: 0.6302 - dense_8_accuracy: 0.6057 - dense_10_accuracy: 0.6688 - val_loss: 13.1725 - val_dense_2_loss: 3.6782 - val_dense_4_loss: 2.2245 - val_dense_6_loss: 2.4777 - val_dense_8_loss: 2.5365 - val_dense_10_loss: 2.3281 - val_dense_2_accuracy: 0.0103 - val_dense_4_accuracy: 0.7423 - val_dense_6_accuracy: 0.6031 - val_dense_8_accuracy: 0.5979 - val_dense_10_accuracy: 0.6289\n",
      "\n",
      "Epoch 00013: loss improved from 5.60349 to 5.13409, saving model to ..\\captchas\\CAPTCHA_v1.hdf5\n",
      "Epoch 14/70\n",
      "776/776 [==============================] - 3s 4ms/step - loss: 4.5985 - dense_2_loss: 0.4698 - dense_4_loss: 0.8611 - dense_6_loss: 1.1115 - dense_8_loss: 1.2424 - dense_10_loss: 0.9135 - dense_2_accuracy: 0.8673 - dense_4_accuracy: 0.7397 - dense_6_accuracy: 0.6688 - dense_8_accuracy: 0.6314 - dense_10_accuracy: 0.7384 - val_loss: 12.4999 - val_dense_2_loss: 3.7101 - val_dense_4_loss: 2.0359 - val_dense_6_loss: 2.3148 - val_dense_8_loss: 2.3657 - val_dense_10_loss: 2.1578 - val_dense_2_accuracy: 0.0103 - val_dense_4_accuracy: 0.7526 - val_dense_6_accuracy: 0.5979 - val_dense_8_accuracy: 0.6082 - val_dense_10_accuracy: 0.6598\n",
      "\n",
      "Epoch 00014: loss improved from 5.13409 to 4.59849, saving model to ..\\captchas\\CAPTCHA_v1.hdf5\n",
      "Epoch 15/70\n",
      "776/776 [==============================] - 3s 4ms/step - loss: 4.3104 - dense_2_loss: 0.3967 - dense_4_loss: 0.8283 - dense_6_loss: 1.0220 - dense_8_loss: 1.1456 - dense_10_loss: 0.9205 - dense_2_accuracy: 0.8930 - dense_4_accuracy: 0.7629 - dense_6_accuracy: 0.6869 - dense_8_accuracy: 0.6611 - dense_10_accuracy: 0.7500 - val_loss: 11.9851 - val_dense_2_loss: 3.7833 - val_dense_4_loss: 1.8696 - val_dense_6_loss: 2.1597 - val_dense_8_loss: 2.2474 - val_dense_10_loss: 2.0172 - val_dense_2_accuracy: 0.0103 - val_dense_4_accuracy: 0.7474 - val_dense_6_accuracy: 0.6289 - val_dense_8_accuracy: 0.6340 - val_dense_10_accuracy: 0.6701\n",
      "\n",
      "Epoch 00015: loss improved from 4.59849 to 4.31043, saving model to ..\\captchas\\CAPTCHA_v1.hdf5\n",
      "Epoch 16/70\n",
      "776/776 [==============================] - 3s 4ms/step - loss: 3.8998 - dense_2_loss: 0.3615 - dense_4_loss: 0.7604 - dense_6_loss: 0.9726 - dense_8_loss: 1.0623 - dense_10_loss: 0.7433 - dense_2_accuracy: 0.8982 - dense_4_accuracy: 0.7680 - dense_6_accuracy: 0.7036 - dense_8_accuracy: 0.6894 - dense_10_accuracy: 0.7951 - val_loss: 11.3302 - val_dense_2_loss: 3.7919 - val_dense_4_loss: 1.7061 - val_dense_6_loss: 2.0158 - val_dense_8_loss: 2.0775 - val_dense_10_loss: 1.8498 - val_dense_2_accuracy: 0.0309 - val_dense_4_accuracy: 0.7835 - val_dense_6_accuracy: 0.6392 - val_dense_8_accuracy: 0.6134 - val_dense_10_accuracy: 0.6804\n",
      "\n",
      "Epoch 00016: loss improved from 4.31043 to 3.89979, saving model to ..\\captchas\\CAPTCHA_v1.hdf5\n",
      "Epoch 17/70\n",
      "776/776 [==============================] - 3s 4ms/step - loss: 3.7618 - dense_2_loss: 0.3583 - dense_4_loss: 0.6818 - dense_6_loss: 0.9739 - dense_8_loss: 1.0072 - dense_10_loss: 0.7425 - dense_2_accuracy: 0.9085 - dense_4_accuracy: 0.8028 - dense_6_accuracy: 0.7229 - dense_8_accuracy: 0.7036 - dense_10_accuracy: 0.7874 - val_loss: 10.8124 - val_dense_2_loss: 3.9661 - val_dense_4_loss: 1.4624 - val_dense_6_loss: 1.8695 - val_dense_8_loss: 1.9472 - val_dense_10_loss: 1.6894 - val_dense_2_accuracy: 0.0361 - val_dense_4_accuracy: 0.7784 - val_dense_6_accuracy: 0.6649 - val_dense_8_accuracy: 0.6340 - val_dense_10_accuracy: 0.7062\n",
      "\n",
      "Epoch 00017: loss improved from 3.89979 to 3.76184, saving model to ..\\captchas\\CAPTCHA_v1.hdf5\n",
      "Epoch 18/70\n",
      "776/776 [==============================] - 3s 4ms/step - loss: 3.4363 - dense_2_loss: 0.3028 - dense_4_loss: 0.6269 - dense_6_loss: 0.8861 - dense_8_loss: 0.9277 - dense_10_loss: 0.6943 - dense_2_accuracy: 0.9149 - dense_4_accuracy: 0.8015 - dense_6_accuracy: 0.7474 - dense_8_accuracy: 0.7255 - dense_10_accuracy: 0.8041 - val_loss: 10.5624 - val_dense_2_loss: 4.3135 - val_dense_4_loss: 1.3362 - val_dense_6_loss: 1.7109 - val_dense_8_loss: 1.7732 - val_dense_10_loss: 1.5653 - val_dense_2_accuracy: 0.0103 - val_dense_4_accuracy: 0.8196 - val_dense_6_accuracy: 0.6598 - val_dense_8_accuracy: 0.6701 - val_dense_10_accuracy: 0.6598\n",
      "\n",
      "Epoch 00018: loss improved from 3.76184 to 3.43628, saving model to ..\\captchas\\CAPTCHA_v1.hdf5\n",
      "Epoch 19/70\n",
      "776/776 [==============================] - 3s 4ms/step - loss: 3.1305 - dense_2_loss: 0.2931 - dense_4_loss: 0.5646 - dense_6_loss: 0.7996 - dense_8_loss: 0.8500 - dense_10_loss: 0.6221 - dense_2_accuracy: 0.9111 - dense_4_accuracy: 0.8544 - dense_6_accuracy: 0.7706 - dense_8_accuracy: 0.7474 - dense_10_accuracy: 0.8312 - val_loss: 9.8186 - val_dense_2_loss: 4.1342 - val_dense_4_loss: 1.1773 - val_dense_6_loss: 1.6081 - val_dense_8_loss: 1.6804 - val_dense_10_loss: 1.3797 - val_dense_2_accuracy: 0.0722 - val_dense_4_accuracy: 0.8247 - val_dense_6_accuracy: 0.6701 - val_dense_8_accuracy: 0.6649 - val_dense_10_accuracy: 0.7216\n",
      "\n",
      "Epoch 00019: loss improved from 3.43628 to 3.13052, saving model to ..\\captchas\\CAPTCHA_v1.hdf5\n",
      "Epoch 20/70\n",
      "776/776 [==============================] - 3s 4ms/step - loss: 2.9008 - dense_2_loss: 0.2541 - dense_4_loss: 0.5205 - dense_6_loss: 0.7513 - dense_8_loss: 0.7625 - dense_10_loss: 0.6097 - dense_2_accuracy: 0.9472 - dense_4_accuracy: 0.8531 - dense_6_accuracy: 0.7990 - dense_8_accuracy: 0.7784 - dense_10_accuracy: 0.8209 - val_loss: 9.8654 - val_dense_2_loss: 4.5726 - val_dense_4_loss: 1.1362 - val_dense_6_loss: 1.5089 - val_dense_8_loss: 1.5247 - val_dense_10_loss: 1.3042 - val_dense_2_accuracy: 0.0206 - val_dense_4_accuracy: 0.7887 - val_dense_6_accuracy: 0.6856 - val_dense_8_accuracy: 0.6753 - val_dense_10_accuracy: 0.7062\n",
      "\n",
      "Epoch 00020: loss improved from 3.13052 to 2.90075, saving model to ..\\captchas\\CAPTCHA_v1.hdf5\n",
      "Epoch 21/70\n",
      "776/776 [==============================] - 3s 4ms/step - loss: 2.7408 - dense_2_loss: 0.2096 - dense_4_loss: 0.5188 - dense_6_loss: 0.7244 - dense_8_loss: 0.7502 - dense_10_loss: 0.5387 - dense_2_accuracy: 0.9497 - dense_4_accuracy: 0.8441 - dense_6_accuracy: 0.7874 - dense_8_accuracy: 0.7899 - dense_10_accuracy: 0.8466 - val_loss: 9.6423 - val_dense_2_loss: 4.6280 - val_dense_4_loss: 1.0476 - val_dense_6_loss: 1.4153 - val_dense_8_loss: 1.5219 - val_dense_10_loss: 1.2205 - val_dense_2_accuracy: 0.0361 - val_dense_4_accuracy: 0.8299 - val_dense_6_accuracy: 0.6701 - val_dense_8_accuracy: 0.6546 - val_dense_10_accuracy: 0.7062\n",
      "\n",
      "Epoch 00021: loss improved from 2.90075 to 2.74077, saving model to ..\\captchas\\CAPTCHA_v1.hdf5\n",
      "Epoch 22/70\n",
      "776/776 [==============================] - 3s 4ms/step - loss: 2.5578 - dense_2_loss: 0.2332 - dense_4_loss: 0.4878 - dense_6_loss: 0.6748 - dense_8_loss: 0.6849 - dense_10_loss: 0.4748 - dense_2_accuracy: 0.9369 - dense_4_accuracy: 0.8544 - dense_6_accuracy: 0.7951 - dense_8_accuracy: 0.8054 - dense_10_accuracy: 0.8711 - val_loss: 9.3215 - val_dense_2_loss: 4.7654 - val_dense_4_loss: 0.9197 - val_dense_6_loss: 1.3075 - val_dense_8_loss: 1.3997 - val_dense_10_loss: 1.1234 - val_dense_2_accuracy: 0.0258 - val_dense_4_accuracy: 0.8196 - val_dense_6_accuracy: 0.6959 - val_dense_8_accuracy: 0.6753 - val_dense_10_accuracy: 0.7165\n",
      "\n",
      "Epoch 00022: loss improved from 2.74077 to 2.55777, saving model to ..\\captchas\\CAPTCHA_v1.hdf5\n",
      "Epoch 23/70\n"
     ]
    },
    {
     "name": "stdout",
     "output_type": "stream",
     "text": [
      "776/776 [==============================] - 3s 4ms/step - loss: 2.4067 - dense_2_loss: 0.2106 - dense_4_loss: 0.4699 - dense_6_loss: 0.6523 - dense_8_loss: 0.6258 - dense_10_loss: 0.4441 - dense_2_accuracy: 0.9356 - dense_4_accuracy: 0.8544 - dense_6_accuracy: 0.8054 - dense_8_accuracy: 0.8260 - dense_10_accuracy: 0.8814 - val_loss: 9.1766 - val_dense_2_loss: 4.8973 - val_dense_4_loss: 0.8688 - val_dense_6_loss: 1.2410 - val_dense_8_loss: 1.2957 - val_dense_10_loss: 1.0880 - val_dense_2_accuracy: 0.0464 - val_dense_4_accuracy: 0.8351 - val_dense_6_accuracy: 0.7320 - val_dense_8_accuracy: 0.7010 - val_dense_10_accuracy: 0.7113\n",
      "\n",
      "Epoch 00023: loss improved from 2.55777 to 2.40670, saving model to ..\\captchas\\CAPTCHA_v1.hdf5\n",
      "Epoch 24/70\n",
      "776/776 [==============================] - 3s 4ms/step - loss: 2.1773 - dense_2_loss: 0.2043 - dense_4_loss: 0.3957 - dense_6_loss: 0.5599 - dense_8_loss: 0.6101 - dense_10_loss: 0.4111 - dense_2_accuracy: 0.9510 - dense_4_accuracy: 0.9034 - dense_6_accuracy: 0.8376 - dense_8_accuracy: 0.8157 - dense_10_accuracy: 0.8892 - val_loss: 9.2402 - val_dense_2_loss: 5.2094 - val_dense_4_loss: 0.7855 - val_dense_6_loss: 1.2111 - val_dense_8_loss: 1.2293 - val_dense_10_loss: 1.0314 - val_dense_2_accuracy: 0.0258 - val_dense_4_accuracy: 0.8505 - val_dense_6_accuracy: 0.7010 - val_dense_8_accuracy: 0.7320 - val_dense_10_accuracy: 0.7474\n",
      "\n",
      "Epoch 00024: loss improved from 2.40670 to 2.17733, saving model to ..\\captchas\\CAPTCHA_v1.hdf5\n",
      "Epoch 25/70\n",
      "776/776 [==============================] - 3s 4ms/step - loss: 2.0553 - dense_2_loss: 0.2012 - dense_4_loss: 0.3427 - dense_6_loss: 0.5504 - dense_8_loss: 0.5487 - dense_10_loss: 0.4089 - dense_2_accuracy: 0.9523 - dense_4_accuracy: 0.9162 - dense_6_accuracy: 0.8376 - dense_8_accuracy: 0.8441 - dense_10_accuracy: 0.8956 - val_loss: 9.2548 - val_dense_2_loss: 5.3661 - val_dense_4_loss: 0.7870 - val_dense_6_loss: 1.1437 - val_dense_8_loss: 1.1690 - val_dense_10_loss: 1.0152 - val_dense_2_accuracy: 0.0361 - val_dense_4_accuracy: 0.8247 - val_dense_6_accuracy: 0.7062 - val_dense_8_accuracy: 0.7165 - val_dense_10_accuracy: 0.7268\n",
      "\n",
      "Epoch 00025: loss improved from 2.17733 to 2.05531, saving model to ..\\captchas\\CAPTCHA_v1.hdf5\n",
      "Epoch 26/70\n",
      "776/776 [==============================] - 3s 4ms/step - loss: 1.9946 - dense_2_loss: 0.1931 - dense_4_loss: 0.4007 - dense_6_loss: 0.4859 - dense_8_loss: 0.5340 - dense_10_loss: 0.3789 - dense_2_accuracy: 0.9472 - dense_4_accuracy: 0.8866 - dense_6_accuracy: 0.8711 - dense_8_accuracy: 0.8518 - dense_10_accuracy: 0.8943 - val_loss: 9.2247 - val_dense_2_loss: 5.5119 - val_dense_4_loss: 0.7359 - val_dense_6_loss: 1.1264 - val_dense_8_loss: 1.1111 - val_dense_10_loss: 0.9785 - val_dense_2_accuracy: 0.0515 - val_dense_4_accuracy: 0.8557 - val_dense_6_accuracy: 0.7113 - val_dense_8_accuracy: 0.7216 - val_dense_10_accuracy: 0.7320\n",
      "\n",
      "Epoch 00026: loss improved from 2.05531 to 1.99464, saving model to ..\\captchas\\CAPTCHA_v1.hdf5\n",
      "Epoch 27/70\n",
      "776/776 [==============================] - 3s 4ms/step - loss: 1.8487 - dense_2_loss: 0.2040 - dense_4_loss: 0.3412 - dense_6_loss: 0.4381 - dense_8_loss: 0.5155 - dense_10_loss: 0.3494 - dense_2_accuracy: 0.9407 - dense_4_accuracy: 0.8969 - dense_6_accuracy: 0.8763 - dense_8_accuracy: 0.8428 - dense_10_accuracy: 0.9059 - val_loss: 9.3557 - val_dense_2_loss: 5.7810 - val_dense_4_loss: 0.7281 - val_dense_6_loss: 1.0685 - val_dense_8_loss: 1.0594 - val_dense_10_loss: 0.9609 - val_dense_2_accuracy: 0.0567 - val_dense_4_accuracy: 0.8144 - val_dense_6_accuracy: 0.7216 - val_dense_8_accuracy: 0.7371 - val_dense_10_accuracy: 0.7474\n",
      "\n",
      "Epoch 00027: loss improved from 1.99464 to 1.84870, saving model to ..\\captchas\\CAPTCHA_v1.hdf5\n",
      "Epoch 28/70\n",
      "776/776 [==============================] - 3s 4ms/step - loss: 1.7427 - dense_2_loss: 0.1757 - dense_4_loss: 0.3189 - dense_6_loss: 0.4602 - dense_8_loss: 0.4473 - dense_10_loss: 0.3420 - dense_2_accuracy: 0.9562 - dense_4_accuracy: 0.9175 - dense_6_accuracy: 0.8634 - dense_8_accuracy: 0.8776 - dense_10_accuracy: 0.9098 - val_loss: 9.0747 - val_dense_2_loss: 5.5471 - val_dense_4_loss: 0.6908 - val_dense_6_loss: 1.0758 - val_dense_8_loss: 1.0463 - val_dense_10_loss: 0.9799 - val_dense_2_accuracy: 0.0825 - val_dense_4_accuracy: 0.8505 - val_dense_6_accuracy: 0.7216 - val_dense_8_accuracy: 0.7474 - val_dense_10_accuracy: 0.7216\n",
      "\n",
      "Epoch 00028: loss improved from 1.84870 to 1.74274, saving model to ..\\captchas\\CAPTCHA_v1.hdf5\n",
      "Epoch 29/70\n",
      "776/776 [==============================] - 3s 4ms/step - loss: 1.6902 - dense_2_loss: 0.1847 - dense_4_loss: 0.3014 - dense_6_loss: 0.4196 - dense_8_loss: 0.4868 - dense_10_loss: 0.2952 - dense_2_accuracy: 0.9549 - dense_4_accuracy: 0.9188 - dense_6_accuracy: 0.8763 - dense_8_accuracy: 0.8621 - dense_10_accuracy: 0.9278 - val_loss: 9.1484 - val_dense_2_loss: 5.7248 - val_dense_4_loss: 0.6724 - val_dense_6_loss: 1.0398 - val_dense_8_loss: 1.0314 - val_dense_10_loss: 0.9450 - val_dense_2_accuracy: 0.0515 - val_dense_4_accuracy: 0.8557 - val_dense_6_accuracy: 0.7268 - val_dense_8_accuracy: 0.7216 - val_dense_10_accuracy: 0.7423\n",
      "\n",
      "Epoch 00029: loss improved from 1.74274 to 1.69020, saving model to ..\\captchas\\CAPTCHA_v1.hdf5\n",
      "Epoch 30/70\n",
      "776/776 [==============================] - 3s 4ms/step - loss: 1.6414 - dense_2_loss: 0.1487 - dense_4_loss: 0.2867 - dense_6_loss: 0.4390 - dense_8_loss: 0.4516 - dense_10_loss: 0.3166 - dense_2_accuracy: 0.9536 - dense_4_accuracy: 0.9201 - dense_6_accuracy: 0.8698 - dense_8_accuracy: 0.8711 - dense_10_accuracy: 0.9149 - val_loss: 9.3621 - val_dense_2_loss: 5.9974 - val_dense_4_loss: 0.6838 - val_dense_6_loss: 1.0176 - val_dense_8_loss: 1.0013 - val_dense_10_loss: 0.9243 - val_dense_2_accuracy: 0.0773 - val_dense_4_accuracy: 0.8505 - val_dense_6_accuracy: 0.7320 - val_dense_8_accuracy: 0.7371 - val_dense_10_accuracy: 0.7577\n",
      "\n",
      "Epoch 00030: loss improved from 1.69020 to 1.64141, saving model to ..\\captchas\\CAPTCHA_v1.hdf5\n",
      "Epoch 31/70\n",
      "776/776 [==============================] - 3s 4ms/step - loss: 1.4628 - dense_2_loss: 0.1510 - dense_4_loss: 0.2858 - dense_6_loss: 0.3652 - dense_8_loss: 0.3960 - dense_10_loss: 0.2647 - dense_2_accuracy: 0.9613 - dense_4_accuracy: 0.9240 - dense_6_accuracy: 0.9046 - dense_8_accuracy: 0.8956 - dense_10_accuracy: 0.9356 - val_loss: 9.8915 - val_dense_2_loss: 6.5369 - val_dense_4_loss: 0.6610 - val_dense_6_loss: 1.0044 - val_dense_8_loss: 1.0021 - val_dense_10_loss: 0.9487 - val_dense_2_accuracy: 0.0464 - val_dense_4_accuracy: 0.8608 - val_dense_6_accuracy: 0.7526 - val_dense_8_accuracy: 0.7320 - val_dense_10_accuracy: 0.7423\n",
      "\n",
      "Epoch 00031: loss improved from 1.64141 to 1.46277, saving model to ..\\captchas\\CAPTCHA_v1.hdf5\n",
      "Epoch 32/70\n",
      "776/776 [==============================] - 3s 4ms/step - loss: 1.4956 - dense_2_loss: 0.1195 - dense_4_loss: 0.2781 - dense_6_loss: 0.3617 - dense_8_loss: 0.4551 - dense_10_loss: 0.2806 - dense_2_accuracy: 0.9639 - dense_4_accuracy: 0.9240 - dense_6_accuracy: 0.8969 - dense_8_accuracy: 0.8711 - dense_10_accuracy: 0.9240 - val_loss: 9.7985 - val_dense_2_loss: 6.5184 - val_dense_4_loss: 0.6630 - val_dense_6_loss: 0.9920 - val_dense_8_loss: 0.9975 - val_dense_10_loss: 0.8913 - val_dense_2_accuracy: 0.0361 - val_dense_4_accuracy: 0.8608 - val_dense_6_accuracy: 0.7268 - val_dense_8_accuracy: 0.7423 - val_dense_10_accuracy: 0.7526\n",
      "\n",
      "Epoch 00032: loss did not improve from 1.46277\n",
      "Epoch 33/70\n",
      "776/776 [==============================] - 3s 4ms/step - loss: 1.3415 - dense_2_loss: 0.1083 - dense_4_loss: 0.2699 - dense_6_loss: 0.3466 - dense_8_loss: 0.3621 - dense_10_loss: 0.2531 - dense_2_accuracy: 0.9768 - dense_4_accuracy: 0.9356 - dense_6_accuracy: 0.9021 - dense_8_accuracy: 0.8969 - dense_10_accuracy: 0.9407 - val_loss: 9.8099 - val_dense_2_loss: 6.4900 - val_dense_4_loss: 0.6475 - val_dense_6_loss: 1.0110 - val_dense_8_loss: 0.9755 - val_dense_10_loss: 0.9848 - val_dense_2_accuracy: 0.0464 - val_dense_4_accuracy: 0.8505 - val_dense_6_accuracy: 0.7423 - val_dense_8_accuracy: 0.7371 - val_dense_10_accuracy: 0.7680\n",
      "\n",
      "Epoch 00033: loss improved from 1.46277 to 1.34146, saving model to ..\\captchas\\CAPTCHA_v1.hdf5\n",
      "Epoch 34/70\n"
     ]
    },
    {
     "name": "stdout",
     "output_type": "stream",
     "text": [
      "776/776 [==============================] - 3s 4ms/step - loss: 1.2386 - dense_2_loss: 0.1217 - dense_4_loss: 0.2392 - dense_6_loss: 0.3218 - dense_8_loss: 0.3285 - dense_10_loss: 0.2255 - dense_2_accuracy: 0.9652 - dense_4_accuracy: 0.9356 - dense_6_accuracy: 0.9162 - dense_8_accuracy: 0.9188 - dense_10_accuracy: 0.9510 - val_loss: 10.0735 - val_dense_2_loss: 6.8905 - val_dense_4_loss: 0.6444 - val_dense_6_loss: 0.9757 - val_dense_8_loss: 0.9190 - val_dense_10_loss: 0.9302 - val_dense_2_accuracy: 0.0412 - val_dense_4_accuracy: 0.8608 - val_dense_6_accuracy: 0.7216 - val_dense_8_accuracy: 0.7629 - val_dense_10_accuracy: 0.7732\n",
      "\n",
      "Epoch 00034: loss improved from 1.34146 to 1.23855, saving model to ..\\captchas\\CAPTCHA_v1.hdf5\n",
      "Epoch 35/70\n",
      "776/776 [==============================] - 3s 4ms/step - loss: 1.2449 - dense_2_loss: 0.1313 - dense_4_loss: 0.1958 - dense_6_loss: 0.3174 - dense_8_loss: 0.3579 - dense_10_loss: 0.2419 - dense_2_accuracy: 0.9665 - dense_4_accuracy: 0.9420 - dense_6_accuracy: 0.9162 - dense_8_accuracy: 0.9072 - dense_10_accuracy: 0.9291 - val_loss: 9.9225 - val_dense_2_loss: 6.7678 - val_dense_4_loss: 0.6366 - val_dense_6_loss: 0.9772 - val_dense_8_loss: 0.9365 - val_dense_10_loss: 0.8875 - val_dense_2_accuracy: 0.0464 - val_dense_4_accuracy: 0.8557 - val_dense_6_accuracy: 0.7268 - val_dense_8_accuracy: 0.7474 - val_dense_10_accuracy: 0.7577\n",
      "\n",
      "Epoch 00035: loss did not improve from 1.23855\n",
      "Epoch 36/70\n",
      "776/776 [==============================] - 3s 4ms/step - loss: 1.2774 - dense_2_loss: 0.1201 - dense_4_loss: 0.2381 - dense_6_loss: 0.3351 - dense_8_loss: 0.3637 - dense_10_loss: 0.2224 - dense_2_accuracy: 0.9626 - dense_4_accuracy: 0.9343 - dense_6_accuracy: 0.8969 - dense_8_accuracy: 0.8814 - dense_10_accuracy: 0.9420 - val_loss: 9.6595 - val_dense_2_loss: 6.5246 - val_dense_4_loss: 0.6346 - val_dense_6_loss: 0.9584 - val_dense_8_loss: 0.9074 - val_dense_10_loss: 0.9158 - val_dense_2_accuracy: 0.0670 - val_dense_4_accuracy: 0.8608 - val_dense_6_accuracy: 0.7474 - val_dense_8_accuracy: 0.7371 - val_dense_10_accuracy: 0.7577\n",
      "\n",
      "Epoch 00036: loss did not improve from 1.23855\n",
      "Epoch 37/70\n",
      "776/776 [==============================] - 3s 4ms/step - loss: 1.1736 - dense_2_loss: 0.1124 - dense_4_loss: 0.2048 - dense_6_loss: 0.2958 - dense_8_loss: 0.3201 - dense_10_loss: 0.2397 - dense_2_accuracy: 0.9678 - dense_4_accuracy: 0.9485 - dense_6_accuracy: 0.9175 - dense_8_accuracy: 0.9137 - dense_10_accuracy: 0.9356 - val_loss: 9.7643 - val_dense_2_loss: 6.6528 - val_dense_4_loss: 0.6057 - val_dense_6_loss: 0.9547 - val_dense_8_loss: 0.9467 - val_dense_10_loss: 0.8840 - val_dense_2_accuracy: 0.0773 - val_dense_4_accuracy: 0.8711 - val_dense_6_accuracy: 0.7577 - val_dense_8_accuracy: 0.7320 - val_dense_10_accuracy: 0.7629\n",
      "\n",
      "Epoch 00037: loss improved from 1.23855 to 1.17359, saving model to ..\\captchas\\CAPTCHA_v1.hdf5\n",
      "Epoch 38/70\n",
      "776/776 [==============================] - 3s 4ms/step - loss: 1.0533 - dense_2_loss: 0.1125 - dense_4_loss: 0.1789 - dense_6_loss: 0.2486 - dense_8_loss: 0.3071 - dense_10_loss: 0.2043 - dense_2_accuracy: 0.9691 - dense_4_accuracy: 0.9523 - dense_6_accuracy: 0.9304 - dense_8_accuracy: 0.9137 - dense_10_accuracy: 0.9549 - val_loss: 9.7433 - val_dense_2_loss: 6.6372 - val_dense_4_loss: 0.6248 - val_dense_6_loss: 0.9573 - val_dense_8_loss: 0.9216 - val_dense_10_loss: 0.8996 - val_dense_2_accuracy: 0.0670 - val_dense_4_accuracy: 0.8711 - val_dense_6_accuracy: 0.7526 - val_dense_8_accuracy: 0.7526 - val_dense_10_accuracy: 0.7526\n",
      "\n",
      "Epoch 00038: loss improved from 1.17359 to 1.05329, saving model to ..\\captchas\\CAPTCHA_v1.hdf5\n",
      "Epoch 39/70\n",
      "776/776 [==============================] - 3s 4ms/step - loss: 1.0746 - dense_2_loss: 0.1016 - dense_4_loss: 0.1778 - dense_6_loss: 0.2803 - dense_8_loss: 0.2981 - dense_10_loss: 0.2180 - dense_2_accuracy: 0.9768 - dense_4_accuracy: 0.9485 - dense_6_accuracy: 0.9227 - dense_8_accuracy: 0.9265 - dense_10_accuracy: 0.9485 - val_loss: 10.1261 - val_dense_2_loss: 7.1777 - val_dense_4_loss: 0.5874 - val_dense_6_loss: 0.9079 - val_dense_8_loss: 0.9002 - val_dense_10_loss: 0.8471 - val_dense_2_accuracy: 0.0515 - val_dense_4_accuracy: 0.8814 - val_dense_6_accuracy: 0.7577 - val_dense_8_accuracy: 0.7423 - val_dense_10_accuracy: 0.7784\n",
      "\n",
      "Epoch 00039: loss did not improve from 1.05329\n",
      "Epoch 40/70\n",
      "776/776 [==============================] - 3s 4ms/step - loss: 1.0250 - dense_2_loss: 0.0964 - dense_4_loss: 0.1712 - dense_6_loss: 0.2665 - dense_8_loss: 0.2944 - dense_10_loss: 0.1979 - dense_2_accuracy: 0.9794 - dense_4_accuracy: 0.9485 - dense_6_accuracy: 0.9304 - dense_8_accuracy: 0.9214 - dense_10_accuracy: 0.9446 - val_loss: 9.7102 - val_dense_2_loss: 6.7318 - val_dense_4_loss: 0.6055 - val_dense_6_loss: 0.9335 - val_dense_8_loss: 0.8603 - val_dense_10_loss: 0.8620 - val_dense_2_accuracy: 0.0773 - val_dense_4_accuracy: 0.8711 - val_dense_6_accuracy: 0.7474 - val_dense_8_accuracy: 0.7629 - val_dense_10_accuracy: 0.7629\n",
      "\n",
      "Epoch 00040: loss improved from 1.05329 to 1.02501, saving model to ..\\captchas\\CAPTCHA_v1.hdf5\n",
      "Epoch 41/70\n",
      "776/776 [==============================] - 3s 4ms/step - loss: 1.0143 - dense_2_loss: 0.1030 - dense_4_loss: 0.1684 - dense_6_loss: 0.2601 - dense_8_loss: 0.2717 - dense_10_loss: 0.2120 - dense_2_accuracy: 0.9691 - dense_4_accuracy: 0.9485 - dense_6_accuracy: 0.9214 - dense_8_accuracy: 0.9265 - dense_10_accuracy: 0.9433 - val_loss: 10.0103 - val_dense_2_loss: 6.9990 - val_dense_4_loss: 0.6231 - val_dense_6_loss: 0.9305 - val_dense_8_loss: 0.9127 - val_dense_10_loss: 0.8450 - val_dense_2_accuracy: 0.0464 - val_dense_4_accuracy: 0.8557 - val_dense_6_accuracy: 0.7474 - val_dense_8_accuracy: 0.7423 - val_dense_10_accuracy: 0.7577\n",
      "\n",
      "Epoch 00041: loss improved from 1.02501 to 1.01427, saving model to ..\\captchas\\CAPTCHA_v1.hdf5\n",
      "Epoch 42/70\n",
      "776/776 [==============================] - 3s 4ms/step - loss: 1.0115 - dense_2_loss: 0.0909 - dense_4_loss: 0.2195 - dense_6_loss: 0.2447 - dense_8_loss: 0.2732 - dense_10_loss: 0.1809 - dense_2_accuracy: 0.9832 - dense_4_accuracy: 0.9304 - dense_6_accuracy: 0.9201 - dense_8_accuracy: 0.9304 - dense_10_accuracy: 0.9510 - val_loss: 9.9414 - val_dense_2_loss: 6.9626 - val_dense_4_loss: 0.6112 - val_dense_6_loss: 0.9199 - val_dense_8_loss: 0.8900 - val_dense_10_loss: 0.8731 - val_dense_2_accuracy: 0.0928 - val_dense_4_accuracy: 0.8660 - val_dense_6_accuracy: 0.7577 - val_dense_8_accuracy: 0.7320 - val_dense_10_accuracy: 0.7577\n",
      "\n",
      "Epoch 00042: loss improved from 1.01427 to 1.01152, saving model to ..\\captchas\\CAPTCHA_v1.hdf5\n",
      "Epoch 43/70\n",
      "776/776 [==============================] - 3s 4ms/step - loss: 0.9127 - dense_2_loss: 0.0942 - dense_4_loss: 0.1517 - dense_6_loss: 0.2303 - dense_8_loss: 0.2781 - dense_10_loss: 0.1568 - dense_2_accuracy: 0.9768 - dense_4_accuracy: 0.9639 - dense_6_accuracy: 0.9330 - dense_8_accuracy: 0.9265 - dense_10_accuracy: 0.9626 - val_loss: 10.2223 - val_dense_2_loss: 7.2607 - val_dense_4_loss: 0.6214 - val_dense_6_loss: 0.9059 - val_dense_8_loss: 0.8916 - val_dense_10_loss: 0.8537 - val_dense_2_accuracy: 0.0670 - val_dense_4_accuracy: 0.8660 - val_dense_6_accuracy: 0.7526 - val_dense_8_accuracy: 0.7577 - val_dense_10_accuracy: 0.7732\n",
      "\n",
      "Epoch 00043: loss improved from 1.01152 to 0.91273, saving model to ..\\captchas\\CAPTCHA_v1.hdf5\n",
      "Epoch 44/70\n",
      "776/776 [==============================] - 3s 4ms/step - loss: 0.9542 - dense_2_loss: 0.0875 - dense_4_loss: 0.1822 - dense_6_loss: 0.2393 - dense_8_loss: 0.2564 - dense_10_loss: 0.1884 - dense_2_accuracy: 0.9781 - dense_4_accuracy: 0.9536 - dense_6_accuracy: 0.9369 - dense_8_accuracy: 0.9356 - dense_10_accuracy: 0.9459 - val_loss: 10.1008 - val_dense_2_loss: 7.2067 - val_dense_4_loss: 0.6116 - val_dense_6_loss: 0.8987 - val_dense_8_loss: 0.8708 - val_dense_10_loss: 0.8460 - val_dense_2_accuracy: 0.0619 - val_dense_4_accuracy: 0.8711 - val_dense_6_accuracy: 0.7629 - val_dense_8_accuracy: 0.7474 - val_dense_10_accuracy: 0.7835\n",
      "\n",
      "Epoch 00044: loss did not improve from 0.91273\n",
      "Epoch 45/70\n"
     ]
    },
    {
     "name": "stdout",
     "output_type": "stream",
     "text": [
      "776/776 [==============================] - 3s 4ms/step - loss: 0.8798 - dense_2_loss: 0.0833 - dense_4_loss: 0.1349 - dense_6_loss: 0.2384 - dense_8_loss: 0.2571 - dense_10_loss: 0.1666 - dense_2_accuracy: 0.9755 - dense_4_accuracy: 0.9704 - dense_6_accuracy: 0.9317 - dense_8_accuracy: 0.9291 - dense_10_accuracy: 0.9601 - val_loss: 9.8288 - val_dense_2_loss: 6.9030 - val_dense_4_loss: 0.6033 - val_dense_6_loss: 0.9106 - val_dense_8_loss: 0.8767 - val_dense_10_loss: 0.8286 - val_dense_2_accuracy: 0.0876 - val_dense_4_accuracy: 0.8711 - val_dense_6_accuracy: 0.7680 - val_dense_8_accuracy: 0.7577 - val_dense_10_accuracy: 0.7990\n",
      "\n",
      "Epoch 00045: loss improved from 0.91273 to 0.87976, saving model to ..\\captchas\\CAPTCHA_v1.hdf5\n",
      "Epoch 46/70\n",
      "776/776 [==============================] - 3s 4ms/step - loss: 0.8398 - dense_2_loss: 0.1008 - dense_4_loss: 0.1483 - dense_6_loss: 0.2227 - dense_8_loss: 0.2065 - dense_10_loss: 0.1629 - dense_2_accuracy: 0.9729 - dense_4_accuracy: 0.9601 - dense_6_accuracy: 0.9304 - dense_8_accuracy: 0.9459 - dense_10_accuracy: 0.9575 - val_loss: 9.5992 - val_dense_2_loss: 6.7274 - val_dense_4_loss: 0.6117 - val_dense_6_loss: 0.8829 - val_dense_8_loss: 0.8752 - val_dense_10_loss: 0.8311 - val_dense_2_accuracy: 0.1186 - val_dense_4_accuracy: 0.8660 - val_dense_6_accuracy: 0.7629 - val_dense_8_accuracy: 0.7526 - val_dense_10_accuracy: 0.7784\n",
      "\n",
      "Epoch 00046: loss improved from 0.87976 to 0.83981, saving model to ..\\captchas\\CAPTCHA_v1.hdf5\n",
      "Epoch 47/70\n",
      "776/776 [==============================] - 3s 4ms/step - loss: 0.8592 - dense_2_loss: 0.0968 - dense_4_loss: 0.1466 - dense_6_loss: 0.2177 - dense_8_loss: 0.2326 - dense_10_loss: 0.1646 - dense_2_accuracy: 0.9742 - dense_4_accuracy: 0.9613 - dense_6_accuracy: 0.9356 - dense_8_accuracy: 0.9394 - dense_10_accuracy: 0.9523 - val_loss: 10.0999 - val_dense_2_loss: 7.2752 - val_dense_4_loss: 0.5744 - val_dense_6_loss: 0.8847 - val_dense_8_loss: 0.8460 - val_dense_10_loss: 0.8308 - val_dense_2_accuracy: 0.0515 - val_dense_4_accuracy: 0.8711 - val_dense_6_accuracy: 0.7629 - val_dense_8_accuracy: 0.7629 - val_dense_10_accuracy: 0.7732\n",
      "\n",
      "Epoch 00047: loss did not improve from 0.83981\n",
      "Epoch 48/70\n",
      "776/776 [==============================] - 3s 4ms/step - loss: 0.7678 - dense_2_loss: 0.0909 - dense_4_loss: 0.1247 - dense_6_loss: 0.1925 - dense_8_loss: 0.2256 - dense_10_loss: 0.1313 - dense_2_accuracy: 0.9742 - dense_4_accuracy: 0.9678 - dense_6_accuracy: 0.9575 - dense_8_accuracy: 0.9381 - dense_10_accuracy: 0.9704 - val_loss: 10.1513 - val_dense_2_loss: 7.1763 - val_dense_4_loss: 0.5992 - val_dense_6_loss: 0.8971 - val_dense_8_loss: 0.8955 - val_dense_10_loss: 0.8883 - val_dense_2_accuracy: 0.0464 - val_dense_4_accuracy: 0.8660 - val_dense_6_accuracy: 0.7629 - val_dense_8_accuracy: 0.7423 - val_dense_10_accuracy: 0.7526\n",
      "\n",
      "Epoch 00048: loss improved from 0.83981 to 0.76779, saving model to ..\\captchas\\CAPTCHA_v1.hdf5\n",
      "Epoch 49/70\n",
      "776/776 [==============================] - 3s 4ms/step - loss: 0.7369 - dense_2_loss: 0.0989 - dense_4_loss: 0.1131 - dense_6_loss: 0.1800 - dense_8_loss: 0.2073 - dense_10_loss: 0.1382 - dense_2_accuracy: 0.9665 - dense_4_accuracy: 0.9755 - dense_6_accuracy: 0.9562 - dense_8_accuracy: 0.9446 - dense_10_accuracy: 0.9665 - val_loss: 9.9642 - val_dense_2_loss: 7.1119 - val_dense_4_loss: 0.6011 - val_dense_6_loss: 0.8845 - val_dense_8_loss: 0.8298 - val_dense_10_loss: 0.8618 - val_dense_2_accuracy: 0.0979 - val_dense_4_accuracy: 0.8660 - val_dense_6_accuracy: 0.7629 - val_dense_8_accuracy: 0.7629 - val_dense_10_accuracy: 0.7732\n",
      "\n",
      "Epoch 00049: loss improved from 0.76779 to 0.73694, saving model to ..\\captchas\\CAPTCHA_v1.hdf5\n",
      "Epoch 50/70\n",
      "776/776 [==============================] - 3s 4ms/step - loss: 0.7368 - dense_2_loss: 0.0775 - dense_4_loss: 0.1333 - dense_6_loss: 0.1743 - dense_8_loss: 0.2140 - dense_10_loss: 0.1363 - dense_2_accuracy: 0.9794 - dense_4_accuracy: 0.9652 - dense_6_accuracy: 0.9485 - dense_8_accuracy: 0.9446 - dense_10_accuracy: 0.9639 - val_loss: 10.2929 - val_dense_2_loss: 7.4862 - val_dense_4_loss: 0.5947 - val_dense_6_loss: 0.8700 - val_dense_8_loss: 0.8379 - val_dense_10_loss: 0.8222 - val_dense_2_accuracy: 0.0876 - val_dense_4_accuracy: 0.8763 - val_dense_6_accuracy: 0.7835 - val_dense_8_accuracy: 0.7577 - val_dense_10_accuracy: 0.7732\n",
      "\n",
      "Epoch 00050: loss improved from 0.73694 to 0.73681, saving model to ..\\captchas\\CAPTCHA_v1.hdf5\n",
      "Epoch 51/70\n",
      "776/776 [==============================] - 3s 4ms/step - loss: 0.6861 - dense_2_loss: 0.0761 - dense_4_loss: 0.1197 - dense_6_loss: 0.1841 - dense_8_loss: 0.1883 - dense_10_loss: 0.1177 - dense_2_accuracy: 0.9832 - dense_4_accuracy: 0.9691 - dense_6_accuracy: 0.9446 - dense_8_accuracy: 0.9472 - dense_10_accuracy: 0.9729 - val_loss: 10.2520 - val_dense_2_loss: 7.3821 - val_dense_4_loss: 0.6023 - val_dense_6_loss: 0.8914 - val_dense_8_loss: 0.8853 - val_dense_10_loss: 0.8404 - val_dense_2_accuracy: 0.0567 - val_dense_4_accuracy: 0.8660 - val_dense_6_accuracy: 0.7629 - val_dense_8_accuracy: 0.7526 - val_dense_10_accuracy: 0.7629\n",
      "\n",
      "Epoch 00051: loss improved from 0.73681 to 0.68608, saving model to ..\\captchas\\CAPTCHA_v1.hdf5\n",
      "Epoch 52/70\n",
      "776/776 [==============================] - 3s 4ms/step - loss: 0.7228 - dense_2_loss: 0.0757 - dense_4_loss: 0.1146 - dense_6_loss: 0.1675 - dense_8_loss: 0.2262 - dense_10_loss: 0.1391 - dense_2_accuracy: 0.9832 - dense_4_accuracy: 0.9755 - dense_6_accuracy: 0.9562 - dense_8_accuracy: 0.9317 - dense_10_accuracy: 0.9626 - val_loss: 10.3142 - val_dense_2_loss: 7.5420 - val_dense_4_loss: 0.5909 - val_dense_6_loss: 0.8693 - val_dense_8_loss: 0.8298 - val_dense_10_loss: 0.8283 - val_dense_2_accuracy: 0.0670 - val_dense_4_accuracy: 0.8557 - val_dense_6_accuracy: 0.7784 - val_dense_8_accuracy: 0.7629 - val_dense_10_accuracy: 0.7887\n",
      "\n",
      "Epoch 00052: loss did not improve from 0.68608\n",
      "Epoch 53/70\n",
      "776/776 [==============================] - 3s 4ms/step - loss: 0.7136 - dense_2_loss: 0.0690 - dense_4_loss: 0.1105 - dense_6_loss: 0.1781 - dense_8_loss: 0.2081 - dense_10_loss: 0.1476 - dense_2_accuracy: 0.9820 - dense_4_accuracy: 0.9716 - dense_6_accuracy: 0.9485 - dense_8_accuracy: 0.9459 - dense_10_accuracy: 0.9678 - val_loss: 10.3249 - val_dense_2_loss: 7.4987 - val_dense_4_loss: 0.6071 - val_dense_6_loss: 0.9062 - val_dense_8_loss: 0.8241 - val_dense_10_loss: 0.8135 - val_dense_2_accuracy: 0.0876 - val_dense_4_accuracy: 0.8608 - val_dense_6_accuracy: 0.7629 - val_dense_8_accuracy: 0.7732 - val_dense_10_accuracy: 0.7887\n",
      "\n",
      "Epoch 00053: loss did not improve from 0.68608\n",
      "Epoch 54/70\n",
      "776/776 [==============================] - 3s 4ms/step - loss: 0.6635 - dense_2_loss: 0.0851 - dense_4_loss: 0.0811 - dense_6_loss: 0.1708 - dense_8_loss: 0.1889 - dense_10_loss: 0.1368 - dense_2_accuracy: 0.9678 - dense_4_accuracy: 0.9781 - dense_6_accuracy: 0.9510 - dense_8_accuracy: 0.9433 - dense_10_accuracy: 0.9704 - val_loss: 10.3187 - val_dense_2_loss: 7.4593 - val_dense_4_loss: 0.6017 - val_dense_6_loss: 0.9059 - val_dense_8_loss: 0.8456 - val_dense_10_loss: 0.8274 - val_dense_2_accuracy: 0.0825 - val_dense_4_accuracy: 0.8918 - val_dense_6_accuracy: 0.7629 - val_dense_8_accuracy: 0.7680 - val_dense_10_accuracy: 0.7732\n",
      "\n",
      "Epoch 00054: loss improved from 0.68608 to 0.66345, saving model to ..\\captchas\\CAPTCHA_v1.hdf5\n",
      "Epoch 55/70\n",
      "776/776 [==============================] - 3s 4ms/step - loss: 0.6786 - dense_2_loss: 0.0593 - dense_4_loss: 0.1236 - dense_6_loss: 0.1563 - dense_8_loss: 0.2023 - dense_10_loss: 0.1384 - dense_2_accuracy: 0.9832 - dense_4_accuracy: 0.9588 - dense_6_accuracy: 0.9665 - dense_8_accuracy: 0.9446 - dense_10_accuracy: 0.9639 - val_loss: 10.3955 - val_dense_2_loss: 7.6115 - val_dense_4_loss: 0.6240 - val_dense_6_loss: 0.8568 - val_dense_8_loss: 0.8386 - val_dense_10_loss: 0.8132 - val_dense_2_accuracy: 0.0619 - val_dense_4_accuracy: 0.8557 - val_dense_6_accuracy: 0.7887 - val_dense_8_accuracy: 0.7784 - val_dense_10_accuracy: 0.7835\n",
      "\n",
      "Epoch 00055: loss did not improve from 0.66345\n",
      "Epoch 56/70\n"
     ]
    },
    {
     "name": "stdout",
     "output_type": "stream",
     "text": [
      "776/776 [==============================] - 3s 4ms/step - loss: 0.5853 - dense_2_loss: 0.0574 - dense_4_loss: 0.1089 - dense_6_loss: 0.1391 - dense_8_loss: 0.1606 - dense_10_loss: 0.1185 - dense_2_accuracy: 0.9832 - dense_4_accuracy: 0.9742 - dense_6_accuracy: 0.9665 - dense_8_accuracy: 0.9665 - dense_10_accuracy: 0.9716 - val_loss: 10.1838 - val_dense_2_loss: 7.3082 - val_dense_4_loss: 0.6061 - val_dense_6_loss: 0.8691 - val_dense_8_loss: 0.8597 - val_dense_10_loss: 0.8353 - val_dense_2_accuracy: 0.0825 - val_dense_4_accuracy: 0.8608 - val_dense_6_accuracy: 0.7835 - val_dense_8_accuracy: 0.7784 - val_dense_10_accuracy: 0.7938\n",
      "\n",
      "Epoch 00056: loss improved from 0.66345 to 0.58531, saving model to ..\\captchas\\CAPTCHA_v1.hdf5\n",
      "Epoch 57/70\n",
      "776/776 [==============================] - 3s 4ms/step - loss: 0.6274 - dense_2_loss: 0.0640 - dense_4_loss: 0.1175 - dense_6_loss: 0.1442 - dense_8_loss: 0.1855 - dense_10_loss: 0.1149 - dense_2_accuracy: 0.9845 - dense_4_accuracy: 0.9665 - dense_6_accuracy: 0.9613 - dense_8_accuracy: 0.9446 - dense_10_accuracy: 0.9691 - val_loss: 10.3869 - val_dense_2_loss: 7.5659 - val_dense_4_loss: 0.5941 - val_dense_6_loss: 0.8793 - val_dense_8_loss: 0.8353 - val_dense_10_loss: 0.8357 - val_dense_2_accuracy: 0.0825 - val_dense_4_accuracy: 0.8763 - val_dense_6_accuracy: 0.7680 - val_dense_8_accuracy: 0.7784 - val_dense_10_accuracy: 0.7835\n",
      "\n",
      "Epoch 00057: loss did not improve from 0.58531\n",
      "Epoch 58/70\n",
      "776/776 [==============================] - 3s 4ms/step - loss: 0.6037 - dense_2_loss: 0.0649 - dense_4_loss: 0.0967 - dense_6_loss: 0.1580 - dense_8_loss: 0.1602 - dense_10_loss: 0.1254 - dense_2_accuracy: 0.9832 - dense_4_accuracy: 0.9729 - dense_6_accuracy: 0.9536 - dense_8_accuracy: 0.9678 - dense_10_accuracy: 0.9704 - val_loss: 10.3155 - val_dense_2_loss: 7.5204 - val_dense_4_loss: 0.5928 - val_dense_6_loss: 0.8378 - val_dense_8_loss: 0.8447 - val_dense_10_loss: 0.8725 - val_dense_2_accuracy: 0.0825 - val_dense_4_accuracy: 0.8763 - val_dense_6_accuracy: 0.7732 - val_dense_8_accuracy: 0.7938 - val_dense_10_accuracy: 0.7680\n",
      "\n",
      "Epoch 00058: loss did not improve from 0.58531\n",
      "Epoch 59/70\n",
      "776/776 [==============================] - 3s 4ms/step - loss: 0.5377 - dense_2_loss: 0.0495 - dense_4_loss: 0.0796 - dense_6_loss: 0.1463 - dense_8_loss: 0.1444 - dense_10_loss: 0.1174 - dense_2_accuracy: 0.9923 - dense_4_accuracy: 0.9781 - dense_6_accuracy: 0.9575 - dense_8_accuracy: 0.9639 - dense_10_accuracy: 0.9716 - val_loss: 11.1040 - val_dense_2_loss: 8.2874 - val_dense_4_loss: 0.5872 - val_dense_6_loss: 0.8921 - val_dense_8_loss: 0.8651 - val_dense_10_loss: 0.8224 - val_dense_2_accuracy: 0.0412 - val_dense_4_accuracy: 0.8763 - val_dense_6_accuracy: 0.7629 - val_dense_8_accuracy: 0.7887 - val_dense_10_accuracy: 0.7887\n",
      "\n",
      "Epoch 00059: loss improved from 0.58531 to 0.53769, saving model to ..\\captchas\\CAPTCHA_v1.hdf5\n",
      "Epoch 60/70\n",
      "776/776 [==============================] - 3s 4ms/step - loss: 0.5940 - dense_2_loss: 0.0467 - dense_4_loss: 0.0866 - dense_6_loss: 0.1570 - dense_8_loss: 0.1963 - dense_10_loss: 0.1079 - dense_2_accuracy: 0.9845 - dense_4_accuracy: 0.9820 - dense_6_accuracy: 0.9523 - dense_8_accuracy: 0.9459 - dense_10_accuracy: 0.9704 - val_loss: 10.5023 - val_dense_2_loss: 7.7060 - val_dense_4_loss: 0.6011 - val_dense_6_loss: 0.8428 - val_dense_8_loss: 0.8373 - val_dense_10_loss: 0.8659 - val_dense_2_accuracy: 0.0825 - val_dense_4_accuracy: 0.8608 - val_dense_6_accuracy: 0.7835 - val_dense_8_accuracy: 0.7629 - val_dense_10_accuracy: 0.7732\n",
      "\n",
      "Epoch 00060: loss did not improve from 0.53769\n",
      "Epoch 61/70\n",
      "776/776 [==============================] - 3s 4ms/step - loss: 0.5522 - dense_2_loss: 0.0489 - dense_4_loss: 0.0949 - dense_6_loss: 0.1390 - dense_8_loss: 0.1842 - dense_10_loss: 0.0845 - dense_2_accuracy: 0.9884 - dense_4_accuracy: 0.9755 - dense_6_accuracy: 0.9601 - dense_8_accuracy: 0.9485 - dense_10_accuracy: 0.9884 - val_loss: 10.2530 - val_dense_2_loss: 7.4725 - val_dense_4_loss: 0.6135 - val_dense_6_loss: 0.8589 - val_dense_8_loss: 0.8385 - val_dense_10_loss: 0.8095 - val_dense_2_accuracy: 0.1134 - val_dense_4_accuracy: 0.8608 - val_dense_6_accuracy: 0.7732 - val_dense_8_accuracy: 0.7938 - val_dense_10_accuracy: 0.7938\n",
      "\n",
      "Epoch 00061: loss did not improve from 0.53769\n",
      "Epoch 62/70\n",
      "776/776 [==============================] - 3s 4ms/step - loss: 0.4967 - dense_2_loss: 0.0581 - dense_4_loss: 0.0815 - dense_6_loss: 0.1271 - dense_8_loss: 0.1348 - dense_10_loss: 0.0960 - dense_2_accuracy: 0.9794 - dense_4_accuracy: 0.9755 - dense_6_accuracy: 0.9639 - dense_8_accuracy: 0.9729 - dense_10_accuracy: 0.9768 - val_loss: 10.7200 - val_dense_2_loss: 7.8738 - val_dense_4_loss: 0.6151 - val_dense_6_loss: 0.9063 - val_dense_8_loss: 0.8328 - val_dense_10_loss: 0.8493 - val_dense_2_accuracy: 0.0825 - val_dense_4_accuracy: 0.8711 - val_dense_6_accuracy: 0.7784 - val_dense_8_accuracy: 0.7835 - val_dense_10_accuracy: 0.7887\n",
      "\n",
      "Epoch 00062: loss improved from 0.53769 to 0.49673, saving model to ..\\captchas\\CAPTCHA_v1.hdf5\n",
      "Epoch 63/70\n",
      "776/776 [==============================] - 3s 4ms/step - loss: 0.5335 - dense_2_loss: 0.0476 - dense_4_loss: 0.0952 - dense_6_loss: 0.1207 - dense_8_loss: 0.1582 - dense_10_loss: 0.1121 - dense_2_accuracy: 0.9832 - dense_4_accuracy: 0.9729 - dense_6_accuracy: 0.9665 - dense_8_accuracy: 0.9613 - dense_10_accuracy: 0.9742 - val_loss: 10.7174 - val_dense_2_loss: 7.9374 - val_dense_4_loss: 0.6160 - val_dense_6_loss: 0.8604 - val_dense_8_loss: 0.8303 - val_dense_10_loss: 0.8320 - val_dense_2_accuracy: 0.0670 - val_dense_4_accuracy: 0.8763 - val_dense_6_accuracy: 0.7835 - val_dense_8_accuracy: 0.7887 - val_dense_10_accuracy: 0.7938\n",
      "\n",
      "Epoch 00063: loss did not improve from 0.49673\n",
      "Epoch 64/70\n",
      "776/776 [==============================] - 3s 4ms/step - loss: 0.4921 - dense_2_loss: 0.0480 - dense_4_loss: 0.0892 - dense_6_loss: 0.1143 - dense_8_loss: 0.1481 - dense_10_loss: 0.0922 - dense_2_accuracy: 0.9858 - dense_4_accuracy: 0.9781 - dense_6_accuracy: 0.9729 - dense_8_accuracy: 0.9575 - dense_10_accuracy: 0.9807 - val_loss: 10.5124 - val_dense_2_loss: 7.7375 - val_dense_4_loss: 0.6113 - val_dense_6_loss: 0.8419 - val_dense_8_loss: 0.8427 - val_dense_10_loss: 0.8440 - val_dense_2_accuracy: 0.1082 - val_dense_4_accuracy: 0.8763 - val_dense_6_accuracy: 0.7887 - val_dense_8_accuracy: 0.7732 - val_dense_10_accuracy: 0.7887\n",
      "\n",
      "Epoch 00064: loss improved from 0.49673 to 0.49213, saving model to ..\\captchas\\CAPTCHA_v1.hdf5\n",
      "Epoch 65/70\n",
      "776/776 [==============================] - 3s 4ms/step - loss: 0.4986 - dense_2_loss: 0.0491 - dense_4_loss: 0.0866 - dense_6_loss: 0.1193 - dense_8_loss: 0.1567 - dense_10_loss: 0.0874 - dense_2_accuracy: 0.9897 - dense_4_accuracy: 0.9820 - dense_6_accuracy: 0.9704 - dense_8_accuracy: 0.9433 - dense_10_accuracy: 0.9807 - val_loss: 10.7216 - val_dense_2_loss: 7.9618 - val_dense_4_loss: 0.5967 - val_dense_6_loss: 0.8611 - val_dense_8_loss: 0.8094 - val_dense_10_loss: 0.8709 - val_dense_2_accuracy: 0.1031 - val_dense_4_accuracy: 0.8814 - val_dense_6_accuracy: 0.7526 - val_dense_8_accuracy: 0.7990 - val_dense_10_accuracy: 0.7835\n",
      "\n",
      "Epoch 00065: loss did not improve from 0.49213\n",
      "Epoch 66/70\n",
      "776/776 [==============================] - 3s 4ms/step - loss: 0.4849 - dense_2_loss: 0.0561 - dense_4_loss: 0.0772 - dense_6_loss: 0.1096 - dense_8_loss: 0.1457 - dense_10_loss: 0.0954 - dense_2_accuracy: 0.9807 - dense_4_accuracy: 0.9729 - dense_6_accuracy: 0.9704 - dense_8_accuracy: 0.9678 - dense_10_accuracy: 0.9794 - val_loss: 10.3522 - val_dense_2_loss: 7.6039 - val_dense_4_loss: 0.5857 - val_dense_6_loss: 0.8530 - val_dense_8_loss: 0.8058 - val_dense_10_loss: 0.8474 - val_dense_2_accuracy: 0.1289 - val_dense_4_accuracy: 0.8711 - val_dense_6_accuracy: 0.7680 - val_dense_8_accuracy: 0.7990 - val_dense_10_accuracy: 0.8093\n",
      "\n",
      "Epoch 00066: loss improved from 0.49213 to 0.48489, saving model to ..\\captchas\\CAPTCHA_v1.hdf5\n",
      "Epoch 67/70\n"
     ]
    },
    {
     "name": "stdout",
     "output_type": "stream",
     "text": [
      "776/776 [==============================] - 3s 4ms/step - loss: 0.4887 - dense_2_loss: 0.0451 - dense_4_loss: 0.0857 - dense_6_loss: 0.1282 - dense_8_loss: 0.1452 - dense_10_loss: 0.0839 - dense_2_accuracy: 0.9923 - dense_4_accuracy: 0.9729 - dense_6_accuracy: 0.9652 - dense_8_accuracy: 0.9562 - dense_10_accuracy: 0.9832 - val_loss: 10.1310 - val_dense_2_loss: 7.4442 - val_dense_4_loss: 0.5782 - val_dense_6_loss: 0.8730 - val_dense_8_loss: 0.8178 - val_dense_10_loss: 0.8208 - val_dense_2_accuracy: 0.1649 - val_dense_4_accuracy: 0.8763 - val_dense_6_accuracy: 0.7887 - val_dense_8_accuracy: 0.7938 - val_dense_10_accuracy: 0.7990\n",
      "\n",
      "Epoch 00067: loss did not improve from 0.48489\n",
      "Epoch 68/70\n",
      "776/776 [==============================] - 3s 4ms/step - loss: 0.4574 - dense_2_loss: 0.0441 - dense_4_loss: 0.0958 - dense_6_loss: 0.0881 - dense_8_loss: 0.1430 - dense_10_loss: 0.0859 - dense_2_accuracy: 0.9923 - dense_4_accuracy: 0.9729 - dense_6_accuracy: 0.9781 - dense_8_accuracy: 0.9523 - dense_10_accuracy: 0.9794 - val_loss: 10.4204 - val_dense_2_loss: 7.6699 - val_dense_4_loss: 0.5905 - val_dense_6_loss: 0.9071 - val_dense_8_loss: 0.7972 - val_dense_10_loss: 0.8513 - val_dense_2_accuracy: 0.1443 - val_dense_4_accuracy: 0.8660 - val_dense_6_accuracy: 0.7784 - val_dense_8_accuracy: 0.7784 - val_dense_10_accuracy: 0.7887\n",
      "\n",
      "Epoch 00068: loss improved from 0.48489 to 0.45740, saving model to ..\\captchas\\CAPTCHA_v1.hdf5\n",
      "Epoch 69/70\n",
      "776/776 [==============================] - 3s 4ms/step - loss: 0.4916 - dense_2_loss: 0.0496 - dense_4_loss: 0.0770 - dense_6_loss: 0.1265 - dense_8_loss: 0.1479 - dense_10_loss: 0.0909 - dense_2_accuracy: 0.9871 - dense_4_accuracy: 0.9845 - dense_6_accuracy: 0.9588 - dense_8_accuracy: 0.9613 - dense_10_accuracy: 0.9820 - val_loss: 10.5482 - val_dense_2_loss: 7.8496 - val_dense_4_loss: 0.6086 - val_dense_6_loss: 0.8460 - val_dense_8_loss: 0.8400 - val_dense_10_loss: 0.7825 - val_dense_2_accuracy: 0.0979 - val_dense_4_accuracy: 0.8660 - val_dense_6_accuracy: 0.7784 - val_dense_8_accuracy: 0.7784 - val_dense_10_accuracy: 0.7835\n",
      "\n",
      "Epoch 00069: loss did not improve from 0.45740\n",
      "Epoch 70/70\n",
      "776/776 [==============================] - 3s 4ms/step - loss: 0.4770 - dense_2_loss: 0.0369 - dense_4_loss: 0.0689 - dense_6_loss: 0.1302 - dense_8_loss: 0.1443 - dense_10_loss: 0.0970 - dense_2_accuracy: 0.9897 - dense_4_accuracy: 0.9858 - dense_6_accuracy: 0.9626 - dense_8_accuracy: 0.9601 - dense_10_accuracy: 0.9781 - val_loss: 10.7874 - val_dense_2_loss: 8.1049 - val_dense_4_loss: 0.6153 - val_dense_6_loss: 0.8413 - val_dense_8_loss: 0.7871 - val_dense_10_loss: 0.8366 - val_dense_2_accuracy: 0.1082 - val_dense_4_accuracy: 0.8814 - val_dense_6_accuracy: 0.7887 - val_dense_8_accuracy: 0.7938 - val_dense_10_accuracy: 0.8093\n",
      "\n",
      "Epoch 00070: loss did not improve from 0.45740\n"
     ]
    }
   ],
   "source": [
    "filepath = \"..\\\\captchas\\\\CAPTCHA_v1.hdf5\"\n",
    "checkpoint = ModelCheckpoint(filepath, monitor='loss', verbose=1, save_best_only=True, mode='min')\n",
    "callback_list = [checkpoint]\n",
    "hist = model.fit(X_train, [y_train[0], y_train[1], y_train[2], y_train[3],\n",
    "                 y_train[4]],callbacks = callback_list, batch_size=34, epochs=70, validation_split=0.2)"
   ]
  },
  {
   "cell_type": "code",
   "execution_count": 9,
   "metadata": {},
   "outputs": [
    {
     "data": {
      "image/png": "[encoded data removed]",
      "text/plain": [
       "<Figure size 432x288 with 1 Axes>"
      ]
     },
     "metadata": {
      "needs_background": "light"
     },
     "output_type": "display_data"
    },
    {
     "name": "stdout",
     "output_type": "stream",
     "text": [
      "Final Training Loss: 0.45739863743794335\n"
     ]
    }
   ],
   "source": [
    "for label in [\"loss\"]:\n",
    "    plt.plot(hist.history[label],label=label)\n",
    "    plt.legend()\n",
    "    plt.xlabel(\"Epochs\")\n",
    "    plt.ylabel(\"Loss\")\n",
    "    plt.show()\n",
    "loss = hist.history['loss']\n",
    "print(\"Final Training Loss: \" + str(np.min(loss)))"
   ]
  },
  {
   "cell_type": "code",
   "execution_count": 11,
   "metadata": {},
   "outputs": [
    {
     "data": {
      "image/png": "[encoded data removed]",
      "text/plain": [
       "<Figure size 432x288 with 1 Axes>"
      ]
     },
     "metadata": {
      "needs_background": "light"
     },
     "output_type": "display_data"
    },
    {
     "name": "stdout",
     "output_type": "stream",
     "text": [
      "Final Training Accuracy: 0.98582476\n"
     ]
    }
   ],
   "source": [
    "for label in [\"dense_4_accuracy\"]:\n",
    "    plt.plot(hist.history[label],label=label)\n",
    "    plt.legend()\n",
    "    plt.xlabel(\"Epochs\")\n",
    "    plt.ylabel(\"Accuracy of Dense 2 layer\")\n",
    "    plt.show()\n",
    "\n",
    "acc = hist.history['dense_4_accuracy']\n",
    "print(\"Final Training Accuracy: \" + str(np.max(acc)))"
   ]
  },
  {
   "cell_type": "code",
   "execution_count": 12,
   "metadata": {},
   "outputs": [
    {
     "name": "stdout",
     "output_type": "stream",
     "text": [
      "100/100 [==============================] - 0s 2ms/step\n"
     ]
    }
   ],
   "source": [
    "model = load_model(\"..\\\\captchas\\\\CAPTCHA_v1.hdf5\")\n",
    "preds = model.evaluate(X_test, [y_test[0], y_test[1], y_test[2], y_test[3], y_test[4]])"
   ]
  },
  {
   "cell_type": "code",
   "execution_count": 15,
   "metadata": {},
   "outputs": [
    {
     "name": "stdout",
     "output_type": "stream",
     "text": [
      "Accuracy on testing set= 0.8629055023193359\n"
     ]
    }
   ],
   "source": [
    "print (\"Accuracy on testing set= \" + str(preds[4]))"
   ]
  }
 ],
 "metadata": {
  "kernelspec": {
   "display_name": "Python 3",
   "language": "python",
   "name": "python3"
  },
  "language_info": {
   "codemirror_mode": {
    "name": "ipython",
    "version": 3
   },
   "file_extension": ".py",
   "mimetype": "text/x-python",
   "name": "python",
   "nbconvert_exporter": "python",
   "pygments_lexer": "ipython3",
   "version": "3.7.0"
  }
 },
 "nbformat": 4,
 "nbformat_minor": 4
}
